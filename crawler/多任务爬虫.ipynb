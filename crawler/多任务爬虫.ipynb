{
 "cells": [
  {
   "cell_type": "markdown",
   "id": "3a6ec7d1-eb4d-45d5-b13d-a742223028f3",
   "metadata": {},
   "source": [
    "## 协程基础"
   ]
  },
  {
   "cell_type": "code",
   "execution_count": null,
   "id": "ed942655-0a45-4993-837b-361180b147ed",
   "metadata": {
    "tags": []
   },
   "outputs": [],
   "source": [
    "import asyncio\n",
    "\n",
    "async def request(url):\n",
    "    print('正在请求的url是', url)\n",
    "    print('请求成功,', url)\n",
    "    return url\n",
    "\n",
    "def callback_func(task):\n",
    "    #result返回的就是任务对象中封装的协程对象对应函数的返回值\n",
    "    print(task.result())\n",
    "\n",
    "#async修饰的函数，调用之后返回的一个协程对象\n",
    "c = request('www.baidu.com')\n",
    "\n",
    "#绑定回调\n",
    "loop = asyncio.get_event_loop()\n",
    "task = asyncio.ensure_future(c)\n",
    "#将回调函数绑定到任务对象中\n",
    "task.add_done_callback(callback_func)\n",
    "loop.run_until_complete(task)\n",
    "\n",
    "loop.close()"
   ]
  },
  {
   "cell_type": "markdown",
   "id": "7c353c82-046b-4837-827f-6b78d37e33c6",
   "metadata": {},
   "source": [
    "## 协程多任务"
   ]
  },
  {
   "cell_type": "code",
   "execution_count": null,
   "id": "fadcb45f-7ef7-4953-ae28-7f849db0b908",
   "metadata": {
    "tags": []
   },
   "outputs": [],
   "source": [
    "import asyncio\n",
    "import time\n",
    "import aiohttp\n",
    "\n",
    "start_time = time.time()\n",
    "\n",
    "url = 'https://fanyi.baidu.com/sug'\n",
    "headers = {\n",
    "    'User-Agent': 'Mozilla/5.0 (Windows NT 10.0; Win64; x64) AppleWebKit/537.36 (KHTML, like Gecko) Chrome/106.0.0.0 Safari/537.36 Edg/106.0.1370.37'\n",
    "}\n",
    "kw_list = ['cat', 'dog', 'mouse']\n",
    "\n",
    "\n",
    "async def request(data):\n",
    "    async with aiohttp.ClientSession() as session:\n",
    "        async with await session.post(url=url, headers=headers, data=data) as response:\n",
    "            result = await response.json()\n",
    "            print(result)\n",
    "\n",
    "\n",
    "tasks = []\n",
    "for kw in kw_list:\n",
    "    data = {\n",
    "        'kw': kw\n",
    "    }\n",
    "    c = request(data)\n",
    "    task = asyncio.ensure_future(c)\n",
    "    tasks.append(task)\n",
    "\n",
    "loop = asyncio.get_event_loop()\n",
    "loop.run_until_complete(asyncio.wait(tasks))\n",
    "\n",
    "end_time = time.time()\n",
    "print(end_time - start_time)"
   ]
  },
  {
   "cell_type": "markdown",
   "id": "9f3304b5-5c16-48b5-9bfb-9a28ab479b7d",
   "metadata": {},
   "source": [
    "## 线程池"
   ]
  },
  {
   "cell_type": "code",
   "execution_count": 3,
   "id": "af1cff16-3014-42f5-937c-db073e6a1256",
   "metadata": {
    "tags": []
   },
   "outputs": [
    {
     "name": "stdout",
     "output_type": "stream",
     "text": [
      "正在下载：aa\n",
      "正在下载：bb\n",
      "正在下载：cc\n",
      "正在下载：TaT\n",
      "下载成功： cc\n",
      "下载成功： TaT\n",
      "下载成功： bb\n",
      "下载成功： aa\n",
      "2.0576930046081543\n"
     ]
    }
   ],
   "source": [
    "import time\n",
    "\n",
    "# 同步爬虫\n",
    "\n",
    "# start_time = time.time()\n",
    "\n",
    "# def get_page(str):\n",
    "#     print('正在下载：', str)\n",
    "#     time.sleep(2)\n",
    "#     print('下载成功：', str)\n",
    "    \n",
    "# url_list = ['aa', 'bb', 'cc', 'TaT']\n",
    "\n",
    "# for url in url_list:\n",
    "#     get_page(url)\n",
    "\n",
    "# end_time = time.time()\n",
    "\n",
    "# print(end_time - start_time)\n",
    "\n",
    "# 异步爬虫\n",
    "from multiprocessing.dummy import Pool\n",
    "\n",
    "start_time = time.time()\n",
    "\n",
    "def get_page(str):\n",
    "    # print('正在下载：', str)\n",
    "    print('正在下载：'+ str)\n",
    "    time.sleep(2)\n",
    "    print('下载成功：', str)\n",
    "    \n",
    "url_list = ['aa', 'bb', 'cc', 'TaT']\n",
    "\n",
    "pool = Pool(4)\n",
    "pool.map(get_page, url_list)\n",
    "\n",
    "end_time = time.time()\n",
    "\n",
    "print(end_time - start_time)"
   ]
  },
  {
   "cell_type": "markdown",
   "id": "49126d9b-b6ef-40d9-9dbf-2d3c1a5d0990",
   "metadata": {},
   "source": [
    "## 线程池应用"
   ]
  },
  {
   "cell_type": "code",
   "execution_count": 4,
   "id": "eeeee4a3-e093-44d2-9c55-fac4af373696",
   "metadata": {
    "tags": []
   },
   "outputs": [
    {
     "name": "stdout",
     "output_type": "stream",
     "text": [
      "原住民有哪些奇葩的下葬仪式？周秉德谈伯父周恩来：他的每个生日，都在为中华之崛起而奋斗  正在爬取\n",
      "正在爬取\n",
      "周秉德谈伯父周恩来：他的每个生日，都在为中华之崛起而奋斗 爬取成功\n",
      "原住民有哪些奇葩的下葬仪式？ 爬取成功\n",
      "2.220712661743164\n"
     ]
    }
   ],
   "source": [
    "import requests\n",
    "from lxml import etree\n",
    "import os\n",
    "import random\n",
    "import re\n",
    "from multiprocessing import Pool\n",
    "import time\n",
    "\n",
    "start_time = time.time()\n",
    "\n",
    "# 创建文件夹\n",
    "dir_name = '../pearvideoLib'\n",
    "if not os.path.exists(dir_name):\n",
    "    os.mkdir(dir_name)\n",
    "\n",
    "headers = {\n",
    "    'User-Agent': 'Mozilla/5.0 (Windows NT 10.0; Win64; x64) AppleWebKit/537.36 (KHTML, like Gecko) Chrome/106.0.0.0 Safari/537.36 Edg/106.0.1370.37'\n",
    "}\n",
    "\n",
    "\n",
    "def get_page(url):\n",
    "    response = requests.get(url=url, headers=headers)\n",
    "    if response.status_code == 200:\n",
    "        return response.text\n",
    "\n",
    "\n",
    "def get_content(video_dict):\n",
    "    url = video_dict['url']\n",
    "    title = video_dict['name']\n",
    "    print(title, '正在爬取')  # get请求是一个耗时的任务，把打印放在前面可以体现多线程的的作用\n",
    "    response = requests.get(url=url, headers=headers)\n",
    "    if response.status_code == 200:\n",
    "        with open(dir_name + '/' + title + '.mp4', 'wb') as fp:\n",
    "            fp.write(response.content)\n",
    "        print(title, '爬取成功')\n",
    "        return response.content\n",
    "\n",
    "\n",
    "main_url = 'https://www.pearvideo.com/category_1'\n",
    "main_page_text = get_page(main_url)\n",
    "main_tree = etree.HTML(main_page_text)\n",
    "detail_url_list = main_tree.xpath('//div[@class=\"vervideo-bd\"]/a/@href')\n",
    "detail_title_list = main_tree.xpath('//div[@class=\"vervideo-bd\"]/a/div[2]/text()')\n",
    "video_cnt = len(detail_url_list)\n",
    "video_url_list = []\n",
    "for i in range(2):\n",
    "    refer_url = 'https://www.pearvideo.com/' + detail_url_list[i]\n",
    "    url = 'https://www.pearvideo.com/videoStatus.jsp?'\n",
    "    video_id = re.findall('\\d+', detail_url_list[i])[0]\n",
    "    # detail_page = get_page(url)\n",
    "    # detait_tree = etree.HTML(detail_page)\n",
    "    # video_url = detait_tree.xpath('//div[@id=\"detailsbd\"]/div[1]/div[1]/div[1]/div[1]/div[1]/video/@src')\n",
    "    # 这里网页元素和爬虫爬取到的page_text有差异，因此xpath结果为空\n",
    "    headers = {\n",
    "        'User-Agent': 'Mozilla/5.0 (Windows NT 10.0; Win64; x64) AppleWebKit/537.36 (KHTML, like Gecko) Chrome/106.0.0.0 Safari/537.36 Edg/106.0.1370.37',\n",
    "        'Referer': refer_url\n",
    "    }\n",
    "    params = {\n",
    "        'contId': video_id,\n",
    "        'mrd': random.random()\n",
    "    }\n",
    "    response = requests.get(url=url, headers=headers, params=params)\n",
    "    result = response.json()\n",
    "\n",
    "    fake_link = result['videoInfo']['videos']['srcUrl']\n",
    "    first_url = os.path.dirname(fake_link)  # https://video.pearvideo.com/mp4/adshort/20201117\n",
    "    last_url = os.path.basename(fake_link)  # 1665935070145-15487069_adpkg-ad_hd.mp4\n",
    "    true_part = re.match('^\\d+(.*)', last_url).group(1)  # -15299927_adpkg-ad_hd.mp4\n",
    "    true_url = first_url + '/cont-' + video_id + true_part\n",
    "    video_dict = {\n",
    "        'url': true_url,\n",
    "        'name': detail_title_list[i]\n",
    "    }\n",
    "    video_url_list.append(video_dict)\n",
    "\n",
    "if __name__ == '__main__':\n",
    "    pool = Pool()\n",
    "    pool.map(get_content, video_url_list)\n",
    "\n",
    "    end_time = time.time()\n",
    "\n",
    "    print(end_time - start_time)\n",
    "# print('over')"
   ]
  },
  {
   "cell_type": "code",
   "execution_count": null,
   "id": "844379c8-b425-4c58-893f-5a00b2f323e4",
   "metadata": {},
   "outputs": [],
   "source": []
  }
 ],
 "metadata": {
  "kernelspec": {
   "display_name": "base",
   "language": "python",
   "name": "base"
  },
  "language_info": {
   "codemirror_mode": {
    "name": "ipython",
    "version": 3
   },
   "file_extension": ".py",
   "mimetype": "text/x-python",
   "name": "python",
   "nbconvert_exporter": "python",
   "pygments_lexer": "ipython3",
   "version": "3.10.11"
  }
 },
 "nbformat": 4,
 "nbformat_minor": 5
}
